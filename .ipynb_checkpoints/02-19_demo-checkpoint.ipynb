{
 "cells": [
  {
   "cell_type": "code",
   "execution_count": 1,
   "metadata": {},
   "outputs": [
    {
     "data": {
      "text/plain": [
       "15"
      ]
     },
     "execution_count": 1,
     "metadata": {},
     "output_type": "execute_result"
    }
   ],
   "source": [
    "3*5"
   ]
  },
  {
   "cell_type": "code",
   "execution_count": 3,
   "metadata": {},
   "outputs": [
    {
     "data": {
      "text/plain": [
       "2.302585092994046"
      ]
     },
     "execution_count": 3,
     "metadata": {},
     "output_type": "execute_result"
    }
   ],
   "source": [
    "import math\n",
    "math.log(10)"
   ]
  },
  {
   "cell_type": "markdown",
   "metadata": {},
   "source": [
    "# Jupyter Notebook Basics\n",
    "I'm going to make a bulleted list\n",
    "\n",
    "- item 1\n",
    "- item 2\n",
    "- item 3"
   ]
  },
  {
   "cell_type": "markdown",
   "metadata": {},
   "source": [
    "If I am in command mode, and I enter a, then it adds cell above it. And, if I enter b, then it enters cell below it. But, if I am in the edit mode, it just adds a and b within in the cell"
   ]
  },
  {
   "cell_type": "markdown",
   "metadata": {},
   "source": [
    "If you're in the command mode, then the strip on the side is in blue color, but when you're in edit mode the strip on the side is in green color. Also, when you're in command mode and you type d two times in a row, a cell gets deleted."
   ]
  },
  {
   "cell_type": "markdown",
   "metadata": {},
   "source": [
    "## Cut, copy, and paste (command mode)\n",
    "\n",
    "- x to cut\n",
    "- c to copy\n",
    "- v to paste (it will paste the cell below the selected cell)"
   ]
  },
  {
   "cell_type": "markdown",
   "metadata": {},
   "source": [
    "## Types of cell\n",
    "- Markdown cell\n",
    "- Code Cell\n",
    "\n",
    "By default, the cell created is code cell, but if you hit m when you're in the command mode in the code cell, it changes to markdown cell. Also, if you type in y, in command mode, it changes back to code cell. \n"
   ]
  },
  {
   "cell_type": "markdown",
   "metadata": {},
   "source": [
    "code for basic command:\n",
    "    \n",
    "Use the backticks \n",
    "`print('hello world')`"
   ]
  },
  {
   "cell_type": "markdown",
   "metadata": {},
   "source": [
    "## Running or rendering cells\n",
    "- Ctrl + Enter will run your current cell\n",
    "- Shift + Enter will help you move on "
   ]
  },
  {
   "cell_type": "markdown",
   "metadata": {},
   "source": [
    "When you're in command mode, press h to see all the keyboard shortcuts- cheers!\n"
   ]
  },
  {
   "cell_type": "markdown",
   "metadata": {},
   "source": [
    "## List of Keyboard Shortcuts\n",
    "\n",
    "You can get a list of shortcuts in command mode by typing _h_\n"
   ]
  },
  {
   "cell_type": "markdown",
   "metadata": {},
   "source": [
    "For data sciencey stuff, Jupyter is a great stuff.\n"
   ]
  },
  {
   "cell_type": "markdown",
   "metadata": {},
   "source": [
    "## IPython\n",
    "\n",
    "Jupyter runs in IPython. It uses in and outs\n",
    "\n",
    "If you've multiple opertaions in a cell, only the last operation will output. \n",
    "\n",
    "In a cell, you can write multiple stuff. \n",
    "\n",
    "If you want multiple stuff to appear you can use `print`\n",
    "\n",
    "Print function doesn't a return a value.\n",
    "\n",
    "`x = print(5*6)`"
   ]
  },
  {
   "cell_type": "markdown",
   "metadata": {},
   "source": [
    "x hasn't stored 30 inside it. \n"
   ]
  },
  {
   "cell_type": "code",
   "execution_count": 10,
   "metadata": {},
   "outputs": [],
   "source": [
    "None\n"
   ]
  },
  {
   "cell_type": "code",
   "execution_count": 11,
   "metadata": {},
   "outputs": [
    {
     "name": "stdout",
     "output_type": "stream",
     "text": [
      "30\n"
     ]
    }
   ],
   "source": [
    "x = print(5*6)"
   ]
  },
  {
   "cell_type": "code",
   "execution_count": 13,
   "metadata": {},
   "outputs": [
    {
     "name": "stdout",
     "output_type": "stream",
     "text": [
      "None\n"
     ]
    }
   ],
   "source": [
    "print(x)\n"
   ]
  },
  {
   "cell_type": "markdown",
   "metadata": {},
   "source": [
    "From here we can see, it doesn't really `print` doesn't really store output!\n"
   ]
  },
  {
   "cell_type": "code",
   "execution_count": 14,
   "metadata": {},
   "outputs": [
    {
     "data": {
      "text/plain": [
       "15"
      ]
     },
     "execution_count": 14,
     "metadata": {},
     "output_type": "execute_result"
    }
   ],
   "source": [
    "Out[1]"
   ]
  },
  {
   "cell_type": "code",
   "execution_count": 15,
   "metadata": {},
   "outputs": [
    {
     "data": {
      "text/plain": [
       "15"
      ]
     },
     "execution_count": 15,
     "metadata": {},
     "output_type": "execute_result"
    }
   ],
   "source": [
    "Out[2]"
   ]
  },
  {
   "cell_type": "code",
   "execution_count": 16,
   "metadata": {},
   "outputs": [
    {
     "data": {
      "text/plain": [
       "2.302585092994046"
      ]
     },
     "execution_count": 16,
     "metadata": {},
     "output_type": "execute_result"
    }
   ],
   "source": [
    "Out[3]"
   ]
  },
  {
   "cell_type": "markdown",
   "metadata": {},
   "source": [
    "## Running your script\n",
    "\n",
    "- You can run the script from the folder by using `%run scriptName`"
   ]
  },
  {
   "cell_type": "code",
   "execution_count": 17,
   "metadata": {},
   "outputs": [],
   "source": [
    "name = 'miles'"
   ]
  },
  {
   "cell_type": "code",
   "execution_count": 19,
   "metadata": {},
   "outputs": [
    {
     "name": "stdout",
     "output_type": "stream",
     "text": [
      "hello miles\n"
     ]
    }
   ],
   "source": [
    "print('hello ' + name)"
   ]
  },
  {
   "cell_type": "code",
   "execution_count": 20,
   "metadata": {},
   "outputs": [
    {
     "name": "stdout",
     "output_type": "stream",
     "text": [
      "info\r\n",
      "checking git status\r\n",
      "\r\n"
     ]
    }
   ],
   "source": [
    "!cat info.txt"
   ]
  },
  {
   "cell_type": "code",
   "execution_count": 21,
   "metadata": {},
   "outputs": [
    {
     "name": "stdout",
     "output_type": "stream",
     "text": [
      "This repo will go over some of the stuffs that I have learned in Python! Cheers!\r\n",
      "\r\n",
      "Master Branch- is supposedly production ready stuff. \r\n",
      "\r\n",
      "Branch- people work on improving things on the branch. They commit those changes to the branch and they create a pull request - \"Can we merge this modification in the master branch?\". So, that's how they merge it back to the master.\r\n",
      "\r\n",
      "The idea of creating branches and working on them is the central idea of the GIT and the master branch is the one that if somebody says we need to turn it in something now. You can say take the current version from master, it doesn't have any errors, it's good to go!\r\n",
      "\r\n",
      "When you want to add changes, you do that in the branch! \r\n",
      "\r\n",
      "You work on the branch until you iron out all the bugs and merge those changes back to the master!\r\n",
      "\r\n",
      "\r\n",
      ".gitignore is a file that tells git don't worry about these files, I don't want them to be tracked\r\n",
      "\r\n",
      "Head will let us know what commit we are working on and we can do back and forth with git checkout and commit name\r\n",
      "\r\n",
      "and to go back to main branch, you type in git checkout main\r\n",
      "\r\n",
      "If you need to create a branch, you do: git branch branchName. \r\n",
      "After that you might want to do this: git checkout branchName. This will enable you to work on the branch.\r\n",
      "Once you're on the branch, do all the regular stuff and push it back to the Github.\r\n",
      "\r\n",
      "And, you can come and work on main branch by doing: git checkout main/ master. SO whatever the changes you've made on the branch is undone in main branch. \r\n",
      "\r\n",
      "To go back and forth between the branches, do this:\r\n",
      "\r\n",
      "git checkout branchName\r\n",
      "git checkout main\r\n",
      "\r\n",
      "\r\n",
      "And to see the differences in branchName and main, do this:\r\n",
      "\r\n",
      "git diff main branchName\r\n",
      "\r\n",
      "\r\n",
      "Easier way to create a branch:\r\n",
      "\r\n",
      "git checkout -b 'branchName'\r\n",
      "\r\n",
      "On the branchName portion you need to give it a name\r\n",
      "\r\n",
      "\r\n",
      "How to merge changes made at branch with the main?\r\n",
      "\r\n",
      "git checkout main\r\n",
      "git merge branchName\r\n",
      "\r\n",
      "You need to give the name of the branch that you want to merge with the main. All the changes will be copied to the main branch.\r\n",
      "\r\n",
      "\r\n",
      "\r\n",
      "\r\n",
      "\r\n",
      "\r\n",
      "\r\n"
     ]
    }
   ],
   "source": [
    "!cat file1.txt"
   ]
  },
  {
   "cell_type": "code",
   "execution_count": 22,
   "metadata": {},
   "outputs": [
    {
     "data": {
      "text/plain": [
       "21"
      ]
     },
     "execution_count": 22,
     "metadata": {},
     "output_type": "execute_result"
    }
   ],
   "source": [
    "3*7"
   ]
  },
  {
   "cell_type": "markdown",
   "metadata": {},
   "source": [
    "You can access the last value output by using a single underscore character _"
   ]
  },
  {
   "cell_type": "code",
   "execution_count": 23,
   "metadata": {},
   "outputs": [
    {
     "data": {
      "text/plain": [
       "27"
      ]
     },
     "execution_count": 23,
     "metadata": {},
     "output_type": "execute_result"
    }
   ],
   "source": [
    "3*9"
   ]
  },
  {
   "cell_type": "code",
   "execution_count": 24,
   "metadata": {},
   "outputs": [
    {
     "data": {
      "text/plain": [
       "25"
      ]
     },
     "execution_count": 24,
     "metadata": {},
     "output_type": "execute_result"
    }
   ],
   "source": [
    "_ - 2"
   ]
  },
  {
   "cell_type": "code",
   "execution_count": null,
   "metadata": {},
   "outputs": [],
   "source": []
  }
 ],
 "metadata": {
  "kernelspec": {
   "display_name": "Python 3",
   "language": "python",
   "name": "python3"
  },
  "language_info": {
   "codemirror_mode": {
    "name": "ipython",
    "version": 3
   },
   "file_extension": ".py",
   "mimetype": "text/x-python",
   "name": "python",
   "nbconvert_exporter": "python",
   "pygments_lexer": "ipython3",
   "version": "3.7.4"
  }
 },
 "nbformat": 4,
 "nbformat_minor": 2
}
